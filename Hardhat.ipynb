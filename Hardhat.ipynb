{
  "nbformat": 4,
  "nbformat_minor": 0,
  "metadata": {
    "colab": {
      "provenance": []
    },
    "kernelspec": {
      "name": "python3",
      "display_name": "Python 3"
    },
    "language_info": {
      "name": "python"
    }
  },
  "cells": [
    {
      "cell_type": "code",
      "execution_count": null,
      "metadata": {
        "colab": {
          "base_uri": "https://localhost:8080/"
        },
        "id": "Yb6i5UlaaJFc",
        "outputId": "f677ff29-bd48-4f2e-806f-49775a6fb301"
      },
      "outputs": [
        {
          "output_type": "stream",
          "name": "stdout",
          "text": [
            "Archivo hardhat.config.js creado exitosamente.\n"
          ]
        }
      ],
      "source": [
        "import os\n",
        "import subprocess\n",
        "import json\n",
        "\n",
        "# Configuración de Infura\n",
        "INFURA_PROJECT_ID = \"tu_infura_project_id\"\n",
        "PRIVATE_KEY = \"tu_clave_privada\"\n",
        "\n",
        "# 1. Crear el archivo hardhat.config.js\n",
        "def create_hardhat_config():\n",
        "    config = {\n",
        "        \"solidity\": \"0.8.0\",\n",
        "        \"networks\": {\n",
        "            \"ropsten\": {\n",
        "                \"url\": f\"https://app.infura.io/key/3ea2be1d8d7744b3ad32b3cf25fee859/active-endpoints\",\n",
        "                \"accounts\": [PRIVATE_KEY]\n",
        "            }\n",
        "        }\n",
        "    }\n",
        "\n",
        "    with open('hardhat.config.js', 'w') as f:\n",
        "        f.write(f\"module.exports = {json.dumps(config, indent=4)};\")\n",
        "    print(\"Archivo hardhat.config.js creado exitosamente.\")\n",
        "\n",
        "# 2. Compilar los contratos\n",
        "def compile_contracts():\n",
        "    subprocess.run([\"npx\", \"hardhat\", \"compile\"])\n",
        "\n",
        "# 3. Desplegar los contratos en Ropsten\n",
        "def deploy_contracts():\n",
        "    subprocess.run([\"npx\", \"hardhat\", \"run\", \"scripts/deploy.js\", \"--network\", \"ropsten\"])\n",
        "\n",
        "# 4. Verificar contratos en Etherscan\n",
        "def verify_contracts():\n",
        "    contracts = [\"MyToken\", \"DEX\"]  # Nombres de los contratos a verificar\n",
        "\n",
        "    for contract in contracts:\n",
        "        subprocess.run([\"npx\", \"hardhat\", \"verify\", \"--network\", \"ropsten\", f\"CONTRACT_ADDRESS\"])\n",
        "\n",
        "# Ejecutar el proceso\n",
        "if __name__ == \"__main__\":\n",
        "    create_hardhat_config()\n",
        "    compile_contracts()\n",
        "    deploy_contracts()\n",
        "    verify_contracts()\n"
      ]
    }
  ]
}